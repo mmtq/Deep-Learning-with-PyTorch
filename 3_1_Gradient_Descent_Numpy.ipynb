{
 "cells": [
  {
   "cell_type": "markdown",
   "id": "69f8b0db",
   "metadata": {},
   "source": [
    "## Gradient Descent (Numpy)"
   ]
  },
  {
   "cell_type": "code",
   "execution_count": 13,
   "id": "b4a0885b",
   "metadata": {},
   "outputs": [],
   "source": [
    "import numpy as np"
   ]
  },
  {
   "cell_type": "code",
   "execution_count": 14,
   "id": "cef1dfd6",
   "metadata": {},
   "outputs": [],
   "source": [
    "# f = w * x\n",
    "# f = 2 * x\n",
    "X = np.array([1,2,3,4], dtype=np.float32)\n",
    "Y = np.array([2,4,6,8], dtype=np.float32)\n",
    "w = 0.0"
   ]
  },
  {
   "cell_type": "code",
   "execution_count": 15,
   "id": "90031603",
   "metadata": {},
   "outputs": [],
   "source": [
    "# model prediction\n",
    "def forward(x):\n",
    "    return w*x\n",
    "\n",
    "# loss = MSE\n",
    "def loss(y, y_predicted):\n",
    "    return ((y_predicted-y)**2).mean()\n",
    "\n",
    "# gradient\n",
    "# MSE = 1/N*(w*x-y)**2\n",
    "# dJ/dw = 1/N 2x (w*x-y)\n",
    "\n",
    "def gradient(x,y,y_predicted):\n",
    "    return np.dot(2*x, y_predicted-y).mean()"
   ]
  },
  {
   "cell_type": "code",
   "execution_count": 16,
   "id": "5f83c8bf",
   "metadata": {},
   "outputs": [
    {
     "name": "stdout",
     "output_type": "stream",
     "text": [
      "Prediction before training: f(5) =  0.000\n",
      "epoch 1: w = 1.200, loss = 30.000\n",
      "epoch 3: w = 1.872, loss = 0.768\n",
      "epoch 5: w = 1.980, loss = 0.020\n",
      "epoch 7: w = 1.997, loss = 0.001\n",
      "epoch 9: w = 1.999, loss = 0.000\n",
      "epoch 11: w = 2.000, loss = 0.000\n",
      "epoch 13: w = 2.000, loss = 0.000\n",
      "epoch 15: w = 2.000, loss = 0.000\n",
      "epoch 17: w = 2.000, loss = 0.000\n",
      "epoch 19: w = 2.000, loss = 0.000\n",
      "Prediction after training: f(5) = 10.000\n"
     ]
    }
   ],
   "source": [
    "print(f'Prediction before training: f(5) = {forward(5): .3f}')\n",
    "\n",
    "# training\n",
    "learning_rate = 0.01\n",
    "n_iters = 20\n",
    "\n",
    "for epoch in range(n_iters):\n",
    "    #prediction = forward pass\n",
    "    y_pred = forward(X)\n",
    "    \n",
    "    # loss\n",
    "    l = loss(Y, y_pred)\n",
    "    \n",
    "    # gradient\n",
    "    dw = gradient(X, Y, y_pred)\n",
    "    \n",
    "    # update weights\n",
    "    w -= learning_rate * dw\n",
    "    \n",
    "    if epoch % 2 == 0:\n",
    "        print(f'epoch {epoch+1}: w = {w:.3f}, loss = {l:.3f}')\n",
    "    \n",
    "print(f'Prediction after training: f(5) = {forward(5):.3f}')"
   ]
  },
  {
   "cell_type": "code",
   "execution_count": null,
   "id": "65af4a7f",
   "metadata": {},
   "outputs": [],
   "source": []
  }
 ],
 "metadata": {
  "kernelspec": {
   "display_name": "Python 3",
   "language": "python",
   "name": "python3"
  },
  "language_info": {
   "codemirror_mode": {
    "name": "ipython",
    "version": 3
   },
   "file_extension": ".py",
   "mimetype": "text/x-python",
   "name": "python",
   "nbconvert_exporter": "python",
   "pygments_lexer": "ipython3",
   "version": "3.13.3"
  }
 },
 "nbformat": 4,
 "nbformat_minor": 5
}
