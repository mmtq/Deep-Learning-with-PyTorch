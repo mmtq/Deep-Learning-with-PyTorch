{
 "cells": [
  {
   "cell_type": "markdown",
   "id": "68440cdc",
   "metadata": {},
   "source": [
    "## Numpy"
   ]
  },
  {
   "cell_type": "code",
   "execution_count": 1,
   "id": "7ad70068",
   "metadata": {},
   "outputs": [],
   "source": [
    "import torch\n",
    "import torch.nn as nn\n",
    "import numpy as np"
   ]
  },
  {
   "cell_type": "code",
   "execution_count": 2,
   "id": "1ad2182d",
   "metadata": {},
   "outputs": [],
   "source": [
    "def cross_entropy(actual, predicted):\n",
    "    loss = -np.sum(actual * np.log(predicted))\n",
    "    return loss # / float(predicted.shape[0])"
   ]
  },
  {
   "cell_type": "code",
   "execution_count": 4,
   "id": "84363103",
   "metadata": {},
   "outputs": [
    {
     "name": "stdout",
     "output_type": "stream",
     "text": [
      "Loss1 numpy: 0.3567\n",
      "Loss2 numpy: 2.3026\n"
     ]
    }
   ],
   "source": [
    "# y must be one-hot encoded\n",
    "# if class 0: [1, 0, 0]\n",
    "# if class 1: [0, 1, 0]\n",
    "# if class 2: [0, 0, 1]\n",
    "\n",
    "y = np.array([1, 0, 0])\n",
    "y_pred_good = np.array([0.7, 0.2, 0.1])\n",
    "y_pred_bad = np.array([0.1, 0.3, 0.6])\n",
    "l1 = cross_entropy(y, y_pred_good)\n",
    "l2 = cross_entropy(y, y_pred_bad)\n",
    "print(f'Loss1 numpy: {l1:.4f}')\n",
    "print(f'Loss2 numpy: {l2:.4f}')"
   ]
  },
  {
   "cell_type": "markdown",
   "id": "35c445dc",
   "metadata": {},
   "source": [
    "## PyTorch\n",
    "\n",
    "Careful! <br>\n",
    "nn.CrossEntropyLoss() applies nn.LogSoftmax + nn.NLLLoss (negative log likelihood loss) <br><br>\n",
    "-> No Softmax in last layer!\n",
    "\n",
    "* Y has class labels, not One-Hot!\n",
    "* Y_pred has raw scores (logits), no Softmax!"
   ]
  },
  {
   "cell_type": "code",
   "execution_count": 13,
   "id": "3b1aaef4",
   "metadata": {},
   "outputs": [
    {
     "name": "stdout",
     "output_type": "stream",
     "text": [
      "Loss1 PyTorch: 0.3018\n",
      "Loss2 PyTorch: 1.5097\n",
      "tensor([2, 0, 1])\n",
      "tensor([1, 2, 1])\n"
     ]
    }
   ],
   "source": [
    "loss = nn.CrossEntropyLoss()\n",
    "\n",
    "Y = torch.tensor([2, 0, 1])\n",
    "\n",
    "# n_samples x n_classes = 3 x 3\n",
    "Y_pred_good = torch.tensor([[0.1, 1.0, 2.1],\n",
    "                            [2.0, 1.0, 0.1],\n",
    "                            [0.1, 3.0, 0.1]])\n",
    "Y_pred_bad = torch.tensor([[0.5, 2.0, 0.3],\n",
    "                           [0.1, 1.0, 2.1],\n",
    "                           [0.1, 3.0, 0.1]])\n",
    "\n",
    "l1 = loss(Y_pred_good, Y)\n",
    "l2 = loss(Y_pred_bad, Y)\n",
    "\n",
    "print(f'Loss1 PyTorch: {l1.item():.4f}')\n",
    "print(f'Loss2 PyTorch: {l2.item():.4f}')\n",
    "\n",
    "_, prediction1 = torch.max(Y_pred_good, 1)\n",
    "_, prediction2 = torch.max(Y_pred_bad, 1)\n",
    "\n",
    "print(prediction1)\n",
    "print(prediction2)"
   ]
  }
 ],
 "metadata": {
  "kernelspec": {
   "display_name": "Python 3",
   "language": "python",
   "name": "python3"
  },
  "language_info": {
   "codemirror_mode": {
    "name": "ipython",
    "version": 3
   },
   "file_extension": ".py",
   "mimetype": "text/x-python",
   "name": "python",
   "nbconvert_exporter": "python",
   "pygments_lexer": "ipython3",
   "version": "3.13.3"
  }
 },
 "nbformat": 4,
 "nbformat_minor": 5
}
